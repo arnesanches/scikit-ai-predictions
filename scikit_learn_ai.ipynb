{
 "cells": [
  {
   "cell_type": "code",
   "execution_count": null,
   "metadata": {},
   "outputs": [],
   "source": [
    "# Importa a biblioteca pandas para manipulação de dados em formato de tabelas\n",
    "import pandas as pd\n",
    "\n",
    "# Carrega o arquivo CSV contendo os dados dos clientes\n",
    "tabela = pd.read_csv(\"clientes.csv\")\n",
    "# Exibe informações sobre a estrutura da tabela, como tipos de dados e valores nulos\n",
    "display(tabela.info())"
   ]
  },
  {
   "cell_type": "code",
   "execution_count": null,
   "metadata": {},
   "outputs": [],
   "source": [
    "# Importa o LabelEncoder da biblioteca scikit-learn para codificação de variáveis categóricas\n",
    "from sklearn.preprocessing import LabelEncoder\n",
    "\n",
    "# Inicializa o codificador\n",
    "codificador = LabelEncoder()\n",
    "# Converte a coluna \"profissao\" de valores categóricos para valores numéricos\n",
    "tabela[\"profissao\"] = codificador.fit_transform(tabela[\"profissao\"])\n",
    "# Converte a coluna \"mix_credito\" de valores categóricos para valores numéricos\n",
    "tabela[\"mix_credito\"] = codificador.fit_transform(tabela[\"mix_credito\"])\n",
    "# Converte a coluna \"comportamento_pagamento\" de valores categóricos para valores numéricos\n",
    "tabela[\"comportamento_pagamento\"] = codificador.fit_transform(tabela[\"comportamento_pagamento\"])\n",
    "# Exibe as informações da tabela atualizada\n",
    "display(tabela.info())"
   ]
  },
  {
   "cell_type": "code",
   "execution_count": null,
   "metadata": {},
   "outputs": [],
   "source": [
    "# Define as variáveis independentes (X) removendo colunas irrelevantes para o modelo\n",
    "x = tabela.drop(columns=[\"score_credito\", \"id_cliente\"])\n",
    "# Define a variável dependente (y), que é o valor a ser previsto\n",
    "y = tabela[\"score_credito\"]"
   ]
  },
  {
   "cell_type": "code",
   "execution_count": null,
   "metadata": {},
   "outputs": [],
   "source": [
    "# Importa a função para dividir os dados em conjuntos de treino e teste\n",
    "from sklearn.model_selection import train_test_split\n",
    "\n",
    "# Divide os dados em conjuntos de treino (70%) e teste (30%)\n",
    "x_treino, x_teste, y_treino, y_teste = train_test_split(x, y, test_size=0.3)"
   ]
  },
  {
   "cell_type": "code",
   "execution_count": null,
   "metadata": {},
   "outputs": [],
   "source": [
    "# Importa os modelos de aprendizado de máquina RandomForest e KNN\n",
    "from sklearn.ensemble import RandomForestClassifier\n",
    "from sklearn.neighbors import KNeighborsClassifier\n",
    "\n",
    "# Inicializa o modelo Random Forest\n",
    "modelo_arvoredecisao = RandomForestClassifier()\n",
    "# Inicializa o modelo K-Nearest Neighbors\n",
    "modelo_knn = KNeighborsClassifier()\n",
    "\n",
    "# Treina o modelo Random Forest com os dados de treino\n",
    "modelo_arvoredecisao.fit(x_treino, y_treino)\n",
    "# Treina o modelo KNN com os dados de treino\n",
    "modelo_knn.fit(x_treino, y_treino)"
   ]
  }
 ],
 "metadata": {
  "kernelspec": {
   "display_name": "Python 3",
   "language": "python",
   "name": "python3"
  },
  "language_info": {
   "name": "python",
   "version": "3.12.4"
  }
 },
 "nbformat": 4,
 "nbformat_minor": 2
}
