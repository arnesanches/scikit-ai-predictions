{
 "cells": [
  {
   "cell_type": "code",
   "execution_count": null,
   "metadata": {},
   "outputs": [],
   "source": [
    "# Importa a biblioteca pandas para manipulação de dados em formato de tabelas\n",
    "import pandas as pd\n",
    "\n",
    "# Carrega o arquivo CSV contendo os dados dos clientes\n",
    "tabela = pd.read_csv(\"clientes.csv\")\n",
    "# Exibe informações sobre a estrutura da tabela, como tipos de dados e valores nulos\n",
    "display(tabela.info())"
   ]
  },
  {
   "cell_type": "code",
   "execution_count": null,
   "metadata": {},
   "outputs": [],
   "source": [
    "# Importa o LabelEncoder da biblioteca scikit-learn para codificação de variáveis categóricas\n",
    "from sklearn.preprocessing import LabelEncoder\n",
    "\n",
    "# Inicializa o codificador\n",
    "codificador = LabelEncoder()\n",
    "# Converte a coluna \"profissao\" de valores categóricos para valores numéricos\n",
    "tabela[\"profissao\"] = codificador.fit_transform(tabela[\"profissao\"])\n",
    "# Converte a coluna \"mix_credito\" de valores categóricos para valores numéricos\n",
    "tabela[\"mix_credito\"] = codificador.fit_transform(tabela[\"mix_credito\"])\n",
    "# Converte a coluna \"comportamento_pagamento\" de valores categóricos para valores numéricos\n",
    "tabela[\"comportamento_pagamento\"] = codificador.fit_transform(tabela[\"comportamento_pagamento\"])\n",
    "# Exibe as informações da tabela atualizada\n",
    "display(tabela.info())"
   ]
  }
 ],
 "metadata": {
  "kernelspec": {
   "display_name": "Python 3",
   "language": "python",
   "name": "python3"
  },
  "language_info": {
   "name": "python",
   "version": "3.12.4"
  }
 },
 "nbformat": 4,
 "nbformat_minor": 2
}
