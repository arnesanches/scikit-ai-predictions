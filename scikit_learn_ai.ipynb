{
 "cells": [
  {
   "cell_type": "code",
   "execution_count": null,
   "metadata": {},
   "outputs": [],
   "source": [
    "# Importa a biblioteca pandas para manipulação de dados em formato de tabelas\n",
    "import pandas as pd\n",
    "\n",
    "# Carrega o arquivo CSV contendo os dados dos clientes\n",
    "tabela = pd.read_csv(\"clientes.csv\")\n",
    "# Exibe informações sobre a estrutura da tabela, como tipos de dados e valores nulos\n",
    "display(tabela.info())"
   ]
  }
 ],
 "metadata": {
  "kernelspec": {
   "display_name": "Python 3",
   "language": "python",
   "name": "python3"
  },
  "language_info": {
   "name": "python",
   "version": "3.12.4"
  }
 },
 "nbformat": 4,
 "nbformat_minor": 2
}
